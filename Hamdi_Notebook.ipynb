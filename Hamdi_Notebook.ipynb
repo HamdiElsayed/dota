{
 "cells": [
  {
   "cell_type": "code",
   "execution_count": 3,
   "metadata": {},
   "outputs": [
    {
     "name": "stdout",
     "output_type": "stream",
     "text": [
      "[PhysicalDevice(name='/physical_device:GPU:0', device_type='GPU'), PhysicalDevice(name='/physical_device:GPU:1', device_type='GPU'), PhysicalDevice(name='/physical_device:GPU:2', device_type='GPU')]\n",
      "2.11.0\n"
     ]
    }
   ],
   "source": [
    "import h5py\n",
    "import json\n",
    "import random\n",
    "import pandas as pd\n",
    "import sys\n",
    "import os\n",
    "import matplotlib.pyplot as plt\n",
    "import pydicom\n",
    "from tqdm import tqdm\n",
    "sys.path.append('./src')\n",
    "import numpy as np\n",
    "#from generators import DataGenerator\n",
    "from generator_hamdi import DataGenerator\n",
    "\n",
    "from models import dota_energies\n",
    "from preprocessing import DataRescaler\n",
    "from preprocessing_hamdi import get_scaling_factors\n",
    "from tensorflow_addons.optimizers import LAMB\n",
    "from tensorflow.keras.callbacks import ModelCheckpoint, LearningRateScheduler\n",
    "from tensorflow.config import list_physical_devices\n",
    "print(list_physical_devices('GPU'))\n",
    "import tensorflow as tf\n",
    "print(tf.__version__)\n"
   ]
  },
  {
   "cell_type": "code",
   "execution_count": 37,
   "metadata": {},
   "outputs": [],
   "source": [
    "data_df=pd.read_pickle(os.path.join(path,'main_picklefile_correct.pkl'))\n",
    "okey='DoseAll'\n",
    "ikey='GeometryAll'\n",
    "lijst=data_df['cropped_geometry_name'].unique().tolist()"
   ]
  },
  {
   "cell_type": "code",
   "execution_count": 52,
   "metadata": {},
   "outputs": [],
   "source": [
    "mask = data_df['shape'] == (68, 68, 150)\n",
    "\n",
    "# Apply the mask to the DataFrame to keep only the rows with the desired shape\n",
    "filtered_df = data_df[mask]"
   ]
  },
  {
   "cell_type": "code",
   "execution_count": 53,
   "metadata": {},
   "outputs": [],
   "source": [
    "filtered_df=filtered_df.reset_index(drop=True)"
   ]
  },
  {
   "cell_type": "code",
   "execution_count": 56,
   "metadata": {},
   "outputs": [
    {
     "data": {
      "text/plain": [
       "(68, 68, 150)    14708\n",
       "Name: shape, dtype: int64"
      ]
     },
     "execution_count": 56,
     "metadata": {},
     "output_type": "execute_result"
    }
   ],
   "source": [
    "filtered_df['shape'].value_counts()"
   ]
  },
  {
   "cell_type": "code",
   "execution_count": 55,
   "metadata": {},
   "outputs": [],
   "source": [
    "filtered_df.to_pickle(os.path.join(path,'main_picklefile_correct.pkl'))"
   ]
  },
  {
   "cell_type": "code",
   "execution_count": 36,
   "metadata": {},
   "outputs": [
    {
     "name": "stdout",
     "output_type": "stream",
     "text": [
      "(68, 68, 150)\n",
      "(68, 68, 150)\n",
      "(68, 68, 150)\n",
      "(68, 68, 150)\n",
      "(68, 68, 150)\n",
      "(68, 68, 150)\n",
      "(68, 68, 150)\n",
      "(13, 34, 68)\n"
     ]
    }
   ],
   "source": [
    "path = r\"/tudelft.net/staff-umbrella/simelectrons/OneGeometryOneEnergy\"\n",
    "\n",
    "values=['e6759932-f323-4e16-beab-2a06ab7adda1', 'f9e24a30-ba23-4e94-85a0-ea68ecf50ca8', 'dacafac5-7176-4e1c-be3b-37ee570c3d08', '8317d0dc-9ab7-4962-a8f0-91026c9206bf', '8cefb33d-eca7-4c83-b394-deff026a9ba7', '7e305765-243a-4493-b448-54342215f71f', '9a700c63-17b8-4a2e-8da4-14f4adda7af0', '989fcbbc-0cc9-4f39-9216-774ed2e7320b']\n",
    "for val in values:\n",
    "    geom=pydicom.read_file(os.path.join(path,'GeometryAll',val+'.dcm'))\n",
    "    print(geom.pixel_array.shape)"
   ]
  },
  {
   "cell_type": "code",
   "execution_count": 29,
   "metadata": {},
   "outputs": [
    {
     "data": {
      "text/plain": [
       "True"
      ]
     },
     "execution_count": 29,
     "metadata": {},
     "output_type": "execute_result"
    }
   ],
   "source": [
    "'8c3f074a-4a5d-45bd-9083-bc146d51f6f1' in data_df['cropped_dose_name'].tolist()"
   ]
  },
  {
   "cell_type": "code",
   "execution_count": 16,
   "metadata": {},
   "outputs": [],
   "source": [
    "geometry_list=data_df['cropped_geometry_name'].tolist()\n",
    "\n",
    "geometry=pydicom.dcmread(os.path.join(path,ikey,data_df['cropped_geometry_name'].iloc[0]+'.dcm')).pixel_array\n",
    "dose=pydicom.dcmread(os.path.join(path,okey,data_df['cropped_dose_name'].iloc[0]+'.dcm')).pixel_array\n",
    "\n",
    "    \n",
    "\n",
    "            "
   ]
  },
  {
   "cell_type": "code",
   "execution_count": 19,
   "metadata": {},
   "outputs": [],
   "source": []
  },
  {
   "cell_type": "code",
   "execution_count": 21,
   "metadata": {},
   "outputs": [
    {
     "data": {
      "text/plain": [
       "(150, 68, 68)"
      ]
     },
     "execution_count": 21,
     "metadata": {},
     "output_type": "execute_result"
    }
   ],
   "source": [
    "dose_swapped.shape"
   ]
  },
  {
   "cell_type": "code",
   "execution_count": 33,
   "metadata": {},
   "outputs": [
    {
     "data": {
      "text/plain": [
       "<matplotlib.image.AxesImage at 0x7f7b017591f0>"
      ]
     },
     "execution_count": 33,
     "metadata": {},
     "output_type": "execute_result"
    },
    {
     "data": {
      "image/png": "[encoded data removed]",
      "text/plain": [
       "<Figure size 640x480 with 1 Axes>"
      ]
     },
     "metadata": {},
     "output_type": "display_data"
    }
   ],
   "source": [
    "index=75\n",
    "rot=4\n",
    "geomerty_swapped=np.rot90(np.swapaxes(geometry,0,2),rot,axes=(1,2))\n",
    "dose_swapped=np.rot90(np.swapaxes(dose,0,2),rot,axes=(1,2))\n",
    "plt.imshow(geomerty_swapped[index,:,:],cmap='gray')\n",
    "plt.imshow(dose_swapped[index,:,:],alpha=0.7)"
   ]
  },
  {
   "cell_type": "code",
   "execution_count": 8,
   "metadata": {},
   "outputs": [],
   "source": [
    "os.listdir(path)\n",
    "\n",
    "array=pydicom.dcmread(os.path.join(path,'GeometryAll',lijst[0]+'.dcm')).pixel_array\n"
   ]
  },
  {
   "cell_type": "code",
   "execution_count": null,
   "metadata": {},
   "outputs": [],
   "source": []
  },
  {
   "cell_type": "code",
   "execution_count": 11,
   "metadata": {},
   "outputs": [
    {
     "data": {
      "text/plain": [
       "(150, 24, 24)"
      ]
     },
     "execution_count": 11,
     "metadata": {},
     "output_type": "execute_result"
    }
   ],
   "source": [
    "x=(150,25,25)\n",
    "tuple(map(lambda i, j: i - j, x, (0,1,1)))"
   ]
  },
  {
   "cell_type": "code",
   "execution_count": 28,
   "metadata": {},
   "outputs": [
    {
     "name": "stderr",
     "output_type": "stream",
     "text": [
      "  0%|          | 0/14714 [00:00<?, ?it/s]"
     ]
    },
    {
     "name": "stderr",
     "output_type": "stream",
     "text": [
      "  3%|▎         | 502/14714 [00:07<03:42, 63.83it/s] \n"
     ]
    },
    {
     "ename": "KeyboardInterrupt",
     "evalue": "",
     "output_type": "error",
     "traceback": [
      "\u001b[0;31m---------------------------------------------------------------------------\u001b[0m",
      "\u001b[0;31mKeyboardInterrupt\u001b[0m                         Traceback (most recent call last)",
      "Input \u001b[0;32mIn [28]\u001b[0m, in \u001b[0;36m<cell line: 5>\u001b[0;34m()\u001b[0m\n\u001b[1;32m      5\u001b[0m \u001b[38;5;28;01mfor\u001b[39;00m filename \u001b[38;5;129;01min\u001b[39;00m tqdm(lijst):\n\u001b[1;32m      6\u001b[0m     geometry\u001b[38;5;241m=\u001b[39mpydicom\u001b[38;5;241m.\u001b[39mdcmread(os\u001b[38;5;241m.\u001b[39mpath\u001b[38;5;241m.\u001b[39mjoin(path,ikey,filename\u001b[38;5;241m+\u001b[39m\u001b[38;5;124m'\u001b[39m\u001b[38;5;124m.dcm\u001b[39m\u001b[38;5;124m'\u001b[39m))\u001b[38;5;241m.\u001b[39mpixel_array\n\u001b[0;32m----> 9\u001b[0m     metadata_dose\u001b[38;5;241m=\u001b[39m\u001b[43mpydicom\u001b[49m\u001b[38;5;241;43m.\u001b[39;49m\u001b[43mdcmread\u001b[49m\u001b[43m(\u001b[49m\u001b[43mos\u001b[49m\u001b[38;5;241;43m.\u001b[39;49m\u001b[43mpath\u001b[49m\u001b[38;5;241;43m.\u001b[39;49m\u001b[43mjoin\u001b[49m\u001b[43m(\u001b[49m\u001b[43mpath\u001b[49m\u001b[43m,\u001b[49m\u001b[43mokey\u001b[49m\u001b[43m,\u001b[49m\u001b[43mdata_df\u001b[49m\u001b[43m[\u001b[49m\u001b[43mdata_df\u001b[49m\u001b[43m[\u001b[49m\u001b[38;5;124;43m'\u001b[39;49m\u001b[38;5;124;43mcropped_geometry_name\u001b[39;49m\u001b[38;5;124;43m'\u001b[39;49m\u001b[43m]\u001b[49m\u001b[38;5;241;43m==\u001b[39;49m\u001b[43mfilename\u001b[49m\u001b[43m]\u001b[49m\u001b[38;5;241;43m.\u001b[39;49m\u001b[43miloc\u001b[49m\u001b[43m[\u001b[49m\u001b[38;5;241;43m0\u001b[39;49m\u001b[43m]\u001b[49m\u001b[43m[\u001b[49m\u001b[38;5;124;43m'\u001b[39;49m\u001b[38;5;124;43mcropped_dose_name\u001b[39;49m\u001b[38;5;124;43m'\u001b[39;49m\u001b[43m]\u001b[49m\u001b[38;5;241;43m+\u001b[39;49m\u001b[38;5;124;43m'\u001b[39;49m\u001b[38;5;124;43m.dcm\u001b[39;49m\u001b[38;5;124;43m'\u001b[39;49m\u001b[43m)\u001b[49m\u001b[43m)\u001b[49m\n\u001b[1;32m     10\u001b[0m     dose\u001b[38;5;241m=\u001b[39mmetadata_dose\u001b[38;5;241m.\u001b[39mpixel_array\u001b[38;5;241m*\u001b[39mmetadata_dose\u001b[38;5;241m.\u001b[39mDoseGridScaling\n",
      "File \u001b[0;32m~/.conda/envs/dota_electron/lib/python3.9/site-packages/pydicom/filereader.py:1021\u001b[0m, in \u001b[0;36mdcmread\u001b[0;34m(fp, defer_size, stop_before_pixels, force, specific_tags)\u001b[0m\n\u001b[1;32m   1019\u001b[0m     stop_when \u001b[38;5;241m=\u001b[39m _at_pixel_data\n\u001b[1;32m   1020\u001b[0m \u001b[38;5;28;01mtry\u001b[39;00m:\n\u001b[0;32m-> 1021\u001b[0m     dataset \u001b[38;5;241m=\u001b[39m \u001b[43mread_partial\u001b[49m\u001b[43m(\u001b[49m\n\u001b[1;32m   1022\u001b[0m \u001b[43m        \u001b[49m\u001b[43mfp\u001b[49m\u001b[43m,\u001b[49m\n\u001b[1;32m   1023\u001b[0m \u001b[43m        \u001b[49m\u001b[43mstop_when\u001b[49m\u001b[43m,\u001b[49m\n\u001b[1;32m   1024\u001b[0m \u001b[43m        \u001b[49m\u001b[43mdefer_size\u001b[49m\u001b[38;5;241;43m=\u001b[39;49m\u001b[43msize_in_bytes\u001b[49m\u001b[43m(\u001b[49m\u001b[43mdefer_size\u001b[49m\u001b[43m)\u001b[49m\u001b[43m,\u001b[49m\n\u001b[1;32m   1025\u001b[0m \u001b[43m        \u001b[49m\u001b[43mforce\u001b[49m\u001b[38;5;241;43m=\u001b[39;49m\u001b[43mforce\u001b[49m\u001b[43m,\u001b[49m\n\u001b[1;32m   1026\u001b[0m \u001b[43m        \u001b[49m\u001b[43mspecific_tags\u001b[49m\u001b[38;5;241;43m=\u001b[39;49m\u001b[43mspecific_tags\u001b[49m\u001b[43m,\u001b[49m\n\u001b[1;32m   1027\u001b[0m \u001b[43m    \u001b[49m\u001b[43m)\u001b[49m\n\u001b[1;32m   1028\u001b[0m \u001b[38;5;28;01mfinally\u001b[39;00m:\n\u001b[1;32m   1029\u001b[0m     \u001b[38;5;28;01mif\u001b[39;00m \u001b[38;5;129;01mnot\u001b[39;00m caller_owns_file:\n",
      "File \u001b[0;32m~/.conda/envs/dota_electron/lib/python3.9/site-packages/pydicom/filereader.py:852\u001b[0m, in \u001b[0;36mread_partial\u001b[0;34m(fileobj, stop_when, defer_size, force, specific_tags)\u001b[0m\n\u001b[1;32m    848\u001b[0m \u001b[38;5;66;03m# Try and decode the dataset\u001b[39;00m\n\u001b[1;32m    849\u001b[0m \u001b[38;5;66;03m#   By this point we should be at the start of the dataset and have\u001b[39;00m\n\u001b[1;32m    850\u001b[0m \u001b[38;5;66;03m#   the transfer syntax (whether read from the file meta or guessed at)\u001b[39;00m\n\u001b[1;32m    851\u001b[0m \u001b[38;5;28;01mtry\u001b[39;00m:\n\u001b[0;32m--> 852\u001b[0m     dataset \u001b[38;5;241m=\u001b[39m \u001b[43mread_dataset\u001b[49m\u001b[43m(\u001b[49m\n\u001b[1;32m    853\u001b[0m \u001b[43m        \u001b[49m\u001b[43mfileobj\u001b[49m\u001b[43m,\u001b[49m\n\u001b[1;32m    854\u001b[0m \u001b[43m        \u001b[49m\u001b[43mis_implicit_VR\u001b[49m\u001b[43m,\u001b[49m\n\u001b[1;32m    855\u001b[0m \u001b[43m        \u001b[49m\u001b[43mis_little_endian\u001b[49m\u001b[43m,\u001b[49m\n\u001b[1;32m    856\u001b[0m \u001b[43m        \u001b[49m\u001b[43mstop_when\u001b[49m\u001b[38;5;241;43m=\u001b[39;49m\u001b[43mstop_when\u001b[49m\u001b[43m,\u001b[49m\n\u001b[1;32m    857\u001b[0m \u001b[43m        \u001b[49m\u001b[43mdefer_size\u001b[49m\u001b[38;5;241;43m=\u001b[39;49m\u001b[43mdefer_size\u001b[49m\u001b[43m,\u001b[49m\n\u001b[1;32m    858\u001b[0m \u001b[43m        \u001b[49m\u001b[43mspecific_tags\u001b[49m\u001b[38;5;241;43m=\u001b[39;49m\u001b[43mspecific_tags\u001b[49m\u001b[43m,\u001b[49m\n\u001b[1;32m    859\u001b[0m \u001b[43m    \u001b[49m\u001b[43m)\u001b[49m\n\u001b[1;32m    860\u001b[0m \u001b[38;5;28;01mexcept\u001b[39;00m \u001b[38;5;167;01mEOFError\u001b[39;00m:\n\u001b[1;32m    861\u001b[0m     \u001b[38;5;28;01mif\u001b[39;00m config\u001b[38;5;241m.\u001b[39msettings\u001b[38;5;241m.\u001b[39mreading_validation_mode \u001b[38;5;241m==\u001b[39m config\u001b[38;5;241m.\u001b[39mRAISE:\n",
      "File \u001b[0;32m~/.conda/envs/dota_electron/lib/python3.9/site-packages/pydicom/filereader.py:427\u001b[0m, in \u001b[0;36mread_dataset\u001b[0;34m(fp, is_implicit_VR, is_little_endian, bytelength, stop_when, defer_size, parent_encoding, specific_tags, at_top_level)\u001b[0m\n\u001b[1;32m    425\u001b[0m \u001b[38;5;28;01mtry\u001b[39;00m:\n\u001b[1;32m    426\u001b[0m     \u001b[38;5;28;01mwhile\u001b[39;00m (bytelength \u001b[38;5;129;01mis\u001b[39;00m \u001b[38;5;28;01mNone\u001b[39;00m) \u001b[38;5;129;01mor\u001b[39;00m (fp\u001b[38;5;241m.\u001b[39mtell() \u001b[38;5;241m-\u001b[39m fp_start \u001b[38;5;241m<\u001b[39m bytelength):\n\u001b[0;32m--> 427\u001b[0m         raw_data_element \u001b[38;5;241m=\u001b[39m \u001b[38;5;28;43mnext\u001b[39;49m\u001b[43m(\u001b[49m\u001b[43mde_gen\u001b[49m\u001b[43m)\u001b[49m\n\u001b[1;32m    428\u001b[0m         \u001b[38;5;66;03m# Read data elements. Stop on some errors, but return what was read\u001b[39;00m\n\u001b[1;32m    429\u001b[0m         tag \u001b[38;5;241m=\u001b[39m raw_data_element\u001b[38;5;241m.\u001b[39mtag\n",
      "File \u001b[0;32m~/.conda/envs/dota_electron/lib/python3.9/site-packages/pydicom/filereader.py:207\u001b[0m, in \u001b[0;36mdata_element_generator\u001b[0;34m(fp, is_implicit_VR, is_little_endian, stop_when, defer_size, encoding, specific_tags)\u001b[0m\n\u001b[1;32m    204\u001b[0m     fp\u001b[38;5;241m.\u001b[39mseek(fp_tell() \u001b[38;5;241m+\u001b[39m length)\n\u001b[1;32m    205\u001b[0m \u001b[38;5;28;01melse\u001b[39;00m:\n\u001b[1;32m    206\u001b[0m     value \u001b[38;5;241m=\u001b[39m (\n\u001b[0;32m--> 207\u001b[0m         \u001b[43mfp_read\u001b[49m\u001b[43m(\u001b[49m\u001b[43mlength\u001b[49m\u001b[43m)\u001b[49m \u001b[38;5;28;01mif\u001b[39;00m length \u001b[38;5;241m>\u001b[39m \u001b[38;5;241m0\u001b[39m\n\u001b[1;32m    208\u001b[0m         \u001b[38;5;28;01melse\u001b[39;00m cast(\n\u001b[1;32m    209\u001b[0m             Optional[\u001b[38;5;28mbytes\u001b[39m], empty_value_for_VR(vr, raw\u001b[38;5;241m=\u001b[39m\u001b[38;5;28;01mTrue\u001b[39;00m)\n\u001b[1;32m    210\u001b[0m         )\n\u001b[1;32m    211\u001b[0m     )\n\u001b[1;32m    212\u001b[0m     \u001b[38;5;28;01mif\u001b[39;00m debugging:\n\u001b[1;32m    213\u001b[0m         dotdot \u001b[38;5;241m=\u001b[39m \u001b[38;5;124m\"\u001b[39m\u001b[38;5;124m...\u001b[39m\u001b[38;5;124m\"\u001b[39m \u001b[38;5;28;01mif\u001b[39;00m length \u001b[38;5;241m>\u001b[39m \u001b[38;5;241m20\u001b[39m \u001b[38;5;28;01melse\u001b[39;00m \u001b[38;5;124m\"\u001b[39m\u001b[38;5;124m   \u001b[39m\u001b[38;5;124m\"\u001b[39m\n",
      "\u001b[0;31mKeyboardInterrupt\u001b[0m: "
     ]
    }
   ],
   "source": [
    "data_df=pd.read_pickle(os.path.join(path,'main_picklefile_correct.pkl'))\n",
    "okey='DoseAll'\n",
    "ikey='GeometryAll'\n",
    "lijst=data_df['cropped_geometry_name'].unique().tolist()\n",
    "for filename in tqdm(lijst):\n",
    "    geometry=pydicom.dcmread(os.path.join(path,ikey,filename+'.dcm')).pixel_array\n",
    "\n",
    "\n",
    "    metadata_dose=pydicom.dcmread(os.path.join(path,okey,data_df[data_df['cropped_geometry_name']==filename].iloc[0]['cropped_dose_name']+'.dcm'))\n",
    "    dose=metadata_dose.pixel_array*metadata_dose.DoseGridScaling"
   ]
  },
  {
   "cell_type": "code",
   "execution_count": 2,
   "metadata": {},
   "outputs": [],
   "source": [
    "lijst=['64363fa5-f990-47e2-a99d-e02b986391d2', '0242af02-8ce6-4df0-855e-c4c26aab41a8', '45832e8f-9cb3-4d01-a854-5287ff41e089', 'c2f8d06b-3866-46f4-9e1f-3045bcc0f0ad', '9b5409e3-5837-4526-90b3-7b95bc9d5a48', '39eb1ab9-59d9-43a8-b154-1c4162e20798', '7b28ef76-4fd4-4f6a-97e6-0782a9a05c8a', '03907b16-679f-4393-b7d7-3f075eef66f4']"
   ]
  },
  {
   "cell_type": "code",
   "execution_count": 12,
   "metadata": {},
   "outputs": [
    {
     "data": {
      "text/plain": [
       "False"
      ]
     },
     "execution_count": 12,
     "metadata": {},
     "output_type": "execute_result"
    }
   ],
   "source": [
    "path_dose=r\"/tudelft.net/staff-umbrella/simelectrons/OneGeometryOneEnergy/DoseAll\"\n",
    "os.listdir(path_dose)\n",
    "\n",
    "\n",
    "'64363fa5-f990-47e2-a99d-e02b986391d2.dcm' in os.listdir(path_dose)"
   ]
  },
  {
   "cell_type": "code",
   "execution_count": 14,
   "metadata": {},
   "outputs": [
    {
     "data": {
      "text/html": [
       "<div>\n",
       "<style scoped>\n",
       "    .dataframe tbody tr th:only-of-type {\n",
       "        vertical-align: middle;\n",
       "    }\n",
       "\n",
       "    .dataframe tbody tr th {\n",
       "        vertical-align: top;\n",
       "    }\n",
       "\n",
       "    .dataframe thead th {\n",
       "        text-align: right;\n",
       "    }\n",
       "</style>\n",
       "<table border=\"1\" class=\"dataframe\">\n",
       "  <thead>\n",
       "    <tr style=\"text-align: right;\">\n",
       "      <th></th>\n",
       "      <th>text_file_names</th>\n",
       "      <th>dose_file_names</th>\n",
       "      <th>energy</th>\n",
       "      <th>beam coordinates</th>\n",
       "      <th>angles</th>\n",
       "      <th>ct_name</th>\n",
       "      <th>cropped_dose_name</th>\n",
       "      <th>cropped_geometry_name</th>\n",
       "      <th>shape</th>\n",
       "    </tr>\n",
       "  </thead>\n",
       "  <tbody>\n",
       "    <tr>\n",
       "      <th>0</th>\n",
       "      <td>8.000000-Abdomen__5.0__B30f-53399.txt</td>\n",
       "      <td>8.000000-Abdomen__5.0__B30f-53399_Run_0000</td>\n",
       "      <td>100.0</td>\n",
       "      <td>(18.6, -11.8, -5.7)</td>\n",
       "      <td>(0, 90)</td>\n",
       "      <td>8.000000-Abdomen__5.0__B30f-53399</td>\n",
       "      <td>84bf4b6c-b1e2-4c59-808b-95e21e2f38d8</td>\n",
       "      <td>8b502228-c440-4030-9f25-5d3be92bc943</td>\n",
       "      <td>(68, 68, 150)</td>\n",
       "    </tr>\n",
       "    <tr>\n",
       "      <th>1</th>\n",
       "      <td>8.000000-Abdomen__5.0__B30f-53399.txt</td>\n",
       "      <td>8.000000-Abdomen__5.0__B30f-53399_Run_0001</td>\n",
       "      <td>100.0</td>\n",
       "      <td>(18.6, -10.8, -5.7)</td>\n",
       "      <td>(0, 90)</td>\n",
       "      <td>8.000000-Abdomen__5.0__B30f-53399</td>\n",
       "      <td>53267646-b81a-44e9-9427-8d284d8a9d58</td>\n",
       "      <td>cc680195-2382-4488-b892-a07061c16c96</td>\n",
       "      <td>(68, 68, 150)</td>\n",
       "    </tr>\n",
       "    <tr>\n",
       "      <th>2</th>\n",
       "      <td>8.000000-Abdomen__5.0__B30f-53399.txt</td>\n",
       "      <td>8.000000-Abdomen__5.0__B30f-53399_Run_0002</td>\n",
       "      <td>100.0</td>\n",
       "      <td>(18.6, -9.8, -5.7)</td>\n",
       "      <td>(0, 90)</td>\n",
       "      <td>8.000000-Abdomen__5.0__B30f-53399</td>\n",
       "      <td>426e5c21-3bf8-4b84-ab86-97a95ffffe4f</td>\n",
       "      <td>a40da29c-29ba-4f2a-98e2-2c5401bec5f5</td>\n",
       "      <td>(68, 68, 150)</td>\n",
       "    </tr>\n",
       "    <tr>\n",
       "      <th>3</th>\n",
       "      <td>8.000000-Abdomen__5.0__B30f-53399.txt</td>\n",
       "      <td>8.000000-Abdomen__5.0__B30f-53399_Run_0003</td>\n",
       "      <td>100.0</td>\n",
       "      <td>(18.6, -8.8, -5.7)</td>\n",
       "      <td>(0, 90)</td>\n",
       "      <td>8.000000-Abdomen__5.0__B30f-53399</td>\n",
       "      <td>c1d79770-7f94-4af0-8fce-87135967827f</td>\n",
       "      <td>5816398b-84c9-4d36-9094-2430d80df9b8</td>\n",
       "      <td>(68, 68, 150)</td>\n",
       "    </tr>\n",
       "    <tr>\n",
       "      <th>4</th>\n",
       "      <td>8.000000-Abdomen__5.0__B30f-53399.txt</td>\n",
       "      <td>8.000000-Abdomen__5.0__B30f-53399_Run_0004</td>\n",
       "      <td>100.0</td>\n",
       "      <td>(18.6, -7.8, -5.7)</td>\n",
       "      <td>(0, 90)</td>\n",
       "      <td>8.000000-Abdomen__5.0__B30f-53399</td>\n",
       "      <td>cfa0de55-6a9f-4682-b4c7-3fe73ae5c240</td>\n",
       "      <td>88b5042e-d97e-4431-934e-87aa6e85afdc</td>\n",
       "      <td>(68, 68, 150)</td>\n",
       "    </tr>\n",
       "    <tr>\n",
       "      <th>...</th>\n",
       "      <td>...</td>\n",
       "      <td>...</td>\n",
       "      <td>...</td>\n",
       "      <td>...</td>\n",
       "      <td>...</td>\n",
       "      <td>...</td>\n",
       "      <td>...</td>\n",
       "      <td>...</td>\n",
       "      <td>...</td>\n",
       "    </tr>\n",
       "    <tr>\n",
       "      <th>14721</th>\n",
       "      <td>6.000000-Venous_Phase__5.0__B30f-07862.txt</td>\n",
       "      <td>6.000000-Venous_Phase__5.0__B30f-07862_Run_1559</td>\n",
       "      <td>100.0</td>\n",
       "      <td>(6.6, 18.2, 8.0)</td>\n",
       "      <td>(270, 0)</td>\n",
       "      <td>6.000000-Venous_Phase__5.0__B30f-07862</td>\n",
       "      <td>654d8ea5-925f-4309-8443-9e2d489f9387</td>\n",
       "      <td>cfbd51ac-b23f-4e48-adb9-285e3cfabc51</td>\n",
       "      <td>(68, 68, 150)</td>\n",
       "    </tr>\n",
       "    <tr>\n",
       "      <th>14722</th>\n",
       "      <td>6.000000-Venous_Phase__5.0__B30f-07862.txt</td>\n",
       "      <td>6.000000-Venous_Phase__5.0__B30f-07862_Run_1560</td>\n",
       "      <td>100.0</td>\n",
       "      <td>(7.6, 18.2, 8.0)</td>\n",
       "      <td>(270, 0)</td>\n",
       "      <td>6.000000-Venous_Phase__5.0__B30f-07862</td>\n",
       "      <td>9201fcee-3f84-4fd5-9783-3ce59e1191b2</td>\n",
       "      <td>f95e5079-7c84-4d35-8a86-c183aa65ae4f</td>\n",
       "      <td>(68, 68, 150)</td>\n",
       "    </tr>\n",
       "    <tr>\n",
       "      <th>14723</th>\n",
       "      <td>6.000000-Venous_Phase__5.0__B30f-07862.txt</td>\n",
       "      <td>6.000000-Venous_Phase__5.0__B30f-07862_Run_1561</td>\n",
       "      <td>100.0</td>\n",
       "      <td>(8.6, 18.2, 8.0)</td>\n",
       "      <td>(270, 0)</td>\n",
       "      <td>6.000000-Venous_Phase__5.0__B30f-07862</td>\n",
       "      <td>25b86fbb-b088-403e-8b0f-132b20c3d546</td>\n",
       "      <td>e05e1354-c763-4639-88b4-ea13095474d2</td>\n",
       "      <td>(68, 68, 150)</td>\n",
       "    </tr>\n",
       "    <tr>\n",
       "      <th>14724</th>\n",
       "      <td>6.000000-Venous_Phase__5.0__B30f-07862.txt</td>\n",
       "      <td>6.000000-Venous_Phase__5.0__B30f-07862_Run_1562</td>\n",
       "      <td>100.0</td>\n",
       "      <td>(9.6, 18.2, 8.0)</td>\n",
       "      <td>(270, 0)</td>\n",
       "      <td>6.000000-Venous_Phase__5.0__B30f-07862</td>\n",
       "      <td>2a4a06de-4cdf-4694-b2ff-59acdcf62f3b</td>\n",
       "      <td>15bad4f1-9eb1-4cab-9a7e-6706b0b39dd3</td>\n",
       "      <td>(68, 68, 150)</td>\n",
       "    </tr>\n",
       "    <tr>\n",
       "      <th>14725</th>\n",
       "      <td>6.000000-Venous_Phase__5.0__B30f-07862.txt</td>\n",
       "      <td>6.000000-Venous_Phase__5.0__B30f-07862_Run_1563</td>\n",
       "      <td>100.0</td>\n",
       "      <td>(10.6, 18.2, 8.0)</td>\n",
       "      <td>(270, 0)</td>\n",
       "      <td>6.000000-Venous_Phase__5.0__B30f-07862</td>\n",
       "      <td>4746de13-4f71-4a01-95f6-a16a6bed14ef</td>\n",
       "      <td>f3209742-ca26-404d-9f87-462c532fc45f</td>\n",
       "      <td>(68, 68, 150)</td>\n",
       "    </tr>\n",
       "  </tbody>\n",
       "</table>\n",
       "<p>14714 rows × 9 columns</p>\n",
       "</div>"
      ],
      "text/plain": [
       "                                  text_file_names  \\\n",
       "0           8.000000-Abdomen__5.0__B30f-53399.txt   \n",
       "1           8.000000-Abdomen__5.0__B30f-53399.txt   \n",
       "2           8.000000-Abdomen__5.0__B30f-53399.txt   \n",
       "3           8.000000-Abdomen__5.0__B30f-53399.txt   \n",
       "4           8.000000-Abdomen__5.0__B30f-53399.txt   \n",
       "...                                           ...   \n",
       "14721  6.000000-Venous_Phase__5.0__B30f-07862.txt   \n",
       "14722  6.000000-Venous_Phase__5.0__B30f-07862.txt   \n",
       "14723  6.000000-Venous_Phase__5.0__B30f-07862.txt   \n",
       "14724  6.000000-Venous_Phase__5.0__B30f-07862.txt   \n",
       "14725  6.000000-Venous_Phase__5.0__B30f-07862.txt   \n",
       "\n",
       "                                       dose_file_names  energy  \\\n",
       "0           8.000000-Abdomen__5.0__B30f-53399_Run_0000   100.0   \n",
       "1           8.000000-Abdomen__5.0__B30f-53399_Run_0001   100.0   \n",
       "2           8.000000-Abdomen__5.0__B30f-53399_Run_0002   100.0   \n",
       "3           8.000000-Abdomen__5.0__B30f-53399_Run_0003   100.0   \n",
       "4           8.000000-Abdomen__5.0__B30f-53399_Run_0004   100.0   \n",
       "...                                                ...     ...   \n",
       "14721  6.000000-Venous_Phase__5.0__B30f-07862_Run_1559   100.0   \n",
       "14722  6.000000-Venous_Phase__5.0__B30f-07862_Run_1560   100.0   \n",
       "14723  6.000000-Venous_Phase__5.0__B30f-07862_Run_1561   100.0   \n",
       "14724  6.000000-Venous_Phase__5.0__B30f-07862_Run_1562   100.0   \n",
       "14725  6.000000-Venous_Phase__5.0__B30f-07862_Run_1563   100.0   \n",
       "\n",
       "          beam coordinates    angles                                 ct_name  \\\n",
       "0      (18.6, -11.8, -5.7)   (0, 90)       8.000000-Abdomen__5.0__B30f-53399   \n",
       "1      (18.6, -10.8, -5.7)   (0, 90)       8.000000-Abdomen__5.0__B30f-53399   \n",
       "2       (18.6, -9.8, -5.7)   (0, 90)       8.000000-Abdomen__5.0__B30f-53399   \n",
       "3       (18.6, -8.8, -5.7)   (0, 90)       8.000000-Abdomen__5.0__B30f-53399   \n",
       "4       (18.6, -7.8, -5.7)   (0, 90)       8.000000-Abdomen__5.0__B30f-53399   \n",
       "...                    ...       ...                                     ...   \n",
       "14721     (6.6, 18.2, 8.0)  (270, 0)  6.000000-Venous_Phase__5.0__B30f-07862   \n",
       "14722     (7.6, 18.2, 8.0)  (270, 0)  6.000000-Venous_Phase__5.0__B30f-07862   \n",
       "14723     (8.6, 18.2, 8.0)  (270, 0)  6.000000-Venous_Phase__5.0__B30f-07862   \n",
       "14724     (9.6, 18.2, 8.0)  (270, 0)  6.000000-Venous_Phase__5.0__B30f-07862   \n",
       "14725    (10.6, 18.2, 8.0)  (270, 0)  6.000000-Venous_Phase__5.0__B30f-07862   \n",
       "\n",
       "                          cropped_dose_name  \\\n",
       "0      84bf4b6c-b1e2-4c59-808b-95e21e2f38d8   \n",
       "1      53267646-b81a-44e9-9427-8d284d8a9d58   \n",
       "2      426e5c21-3bf8-4b84-ab86-97a95ffffe4f   \n",
       "3      c1d79770-7f94-4af0-8fce-87135967827f   \n",
       "4      cfa0de55-6a9f-4682-b4c7-3fe73ae5c240   \n",
       "...                                     ...   \n",
       "14721  654d8ea5-925f-4309-8443-9e2d489f9387   \n",
       "14722  9201fcee-3f84-4fd5-9783-3ce59e1191b2   \n",
       "14723  25b86fbb-b088-403e-8b0f-132b20c3d546   \n",
       "14724  2a4a06de-4cdf-4694-b2ff-59acdcf62f3b   \n",
       "14725  4746de13-4f71-4a01-95f6-a16a6bed14ef   \n",
       "\n",
       "                      cropped_geometry_name          shape  \n",
       "0      8b502228-c440-4030-9f25-5d3be92bc943  (68, 68, 150)  \n",
       "1      cc680195-2382-4488-b892-a07061c16c96  (68, 68, 150)  \n",
       "2      a40da29c-29ba-4f2a-98e2-2c5401bec5f5  (68, 68, 150)  \n",
       "3      5816398b-84c9-4d36-9094-2430d80df9b8  (68, 68, 150)  \n",
       "4      88b5042e-d97e-4431-934e-87aa6e85afdc  (68, 68, 150)  \n",
       "...                                     ...            ...  \n",
       "14721  cfbd51ac-b23f-4e48-adb9-285e3cfabc51  (68, 68, 150)  \n",
       "14722  f95e5079-7c84-4d35-8a86-c183aa65ae4f  (68, 68, 150)  \n",
       "14723  e05e1354-c763-4639-88b4-ea13095474d2  (68, 68, 150)  \n",
       "14724  15bad4f1-9eb1-4cab-9a7e-6706b0b39dd3  (68, 68, 150)  \n",
       "14725  f3209742-ca26-404d-9f87-462c532fc45f  (68, 68, 150)  \n",
       "\n",
       "[14714 rows x 9 columns]"
      ]
     },
     "execution_count": 14,
     "metadata": {},
     "output_type": "execute_result"
    }
   ],
   "source": [
    "data_df"
   ]
  },
  {
   "cell_type": "code",
   "execution_count": 22,
   "metadata": {},
   "outputs": [
    {
     "name": "stderr",
     "output_type": "stream",
     "text": [
      "  0%|          | 0/14726 [00:00<?, ?it/s]\n"
     ]
    },
    {
     "ename": "FileNotFoundError",
     "evalue": "[Errno 2] No such file or directory: '/tudelft.net/staff-umbrella/simelectrons/OneGeometryOneEnergy/DoseAll/8b502228-c440-4030-9f25-5d3be92bc943.dcm'",
     "output_type": "error",
     "traceback": [
      "\u001b[0;31m---------------------------------------------------------------------------\u001b[0m",
      "\u001b[0;31mFileNotFoundError\u001b[0m                         Traceback (most recent call last)",
      "Input \u001b[0;32mIn [22]\u001b[0m, in \u001b[0;36m<cell line: 3>\u001b[0;34m()\u001b[0m\n\u001b[1;32m      2\u001b[0m okey\u001b[38;5;241m=\u001b[39m\u001b[38;5;124m'\u001b[39m\u001b[38;5;124mGeometryAll\u001b[39m\u001b[38;5;124m'\u001b[39m\n\u001b[1;32m      3\u001b[0m \u001b[38;5;28;01mfor\u001b[39;00m filename \u001b[38;5;129;01min\u001b[39;00m tqdm(lijst):\n\u001b[0;32m----> 4\u001b[0m     geometry\u001b[38;5;241m=\u001b[39m\u001b[43mpydicom\u001b[49m\u001b[38;5;241;43m.\u001b[39;49m\u001b[43mdcmread\u001b[49m\u001b[43m(\u001b[49m\u001b[43mos\u001b[49m\u001b[38;5;241;43m.\u001b[39;49m\u001b[43mpath\u001b[49m\u001b[38;5;241;43m.\u001b[39;49m\u001b[43mjoin\u001b[49m\u001b[43m(\u001b[49m\u001b[43mpath\u001b[49m\u001b[43m,\u001b[49m\u001b[43mikey\u001b[49m\u001b[43m,\u001b[49m\u001b[43mfilename\u001b[49m\u001b[38;5;241;43m+\u001b[39;49m\u001b[38;5;124;43m'\u001b[39;49m\u001b[38;5;124;43m.dcm\u001b[39;49m\u001b[38;5;124;43m'\u001b[39;49m\u001b[43m)\u001b[49m\u001b[43m)\u001b[49m\u001b[38;5;241m.\u001b[39mpixel_array\n\u001b[1;32m      7\u001b[0m     metadata_dose\u001b[38;5;241m=\u001b[39mpydicom\u001b[38;5;241m.\u001b[39mdcmread(os\u001b[38;5;241m.\u001b[39mpath\u001b[38;5;241m.\u001b[39mjoin(path,okey,data_df[data_df[\u001b[38;5;124m'\u001b[39m\u001b[38;5;124mcropped_geometry_name\u001b[39m\u001b[38;5;124m'\u001b[39m]\u001b[38;5;241m==\u001b[39mlijst[\u001b[38;5;241m0\u001b[39m]]\u001b[38;5;241m.\u001b[39miloc[\u001b[38;5;241m0\u001b[39m][\u001b[38;5;124m'\u001b[39m\u001b[38;5;124mcropped_dose_name\u001b[39m\u001b[38;5;124m'\u001b[39m]\u001b[38;5;241m+\u001b[39m\u001b[38;5;124m'\u001b[39m\u001b[38;5;124m.dcm\u001b[39m\u001b[38;5;124m'\u001b[39m))\n\u001b[1;32m      8\u001b[0m     dose\u001b[38;5;241m=\u001b[39mmetadata_dose\u001b[38;5;241m.\u001b[39mpixel_array\u001b[38;5;241m*\u001b[39mmetadata_dose\u001b[38;5;241m.\u001b[39mDoseGridScaling\n",
      "File \u001b[0;32m~/.conda/envs/dota_electron/lib/python3.9/site-packages/pydicom/filereader.py:993\u001b[0m, in \u001b[0;36mdcmread\u001b[0;34m(fp, defer_size, stop_before_pixels, force, specific_tags)\u001b[0m\n\u001b[1;32m    991\u001b[0m     caller_owns_file \u001b[38;5;241m=\u001b[39m \u001b[38;5;28;01mFalse\u001b[39;00m\n\u001b[1;32m    992\u001b[0m     logger\u001b[38;5;241m.\u001b[39mdebug(\u001b[38;5;124m\"\u001b[39m\u001b[38;5;124mReading file \u001b[39m\u001b[38;5;124m'\u001b[39m\u001b[38;5;132;01m{0}\u001b[39;00m\u001b[38;5;124m'\u001b[39m\u001b[38;5;124m\"\u001b[39m\u001b[38;5;241m.\u001b[39mformat(fp))\n\u001b[0;32m--> 993\u001b[0m     fp \u001b[38;5;241m=\u001b[39m \u001b[38;5;28;43mopen\u001b[39;49m\u001b[43m(\u001b[49m\u001b[43mfp\u001b[49m\u001b[43m,\u001b[49m\u001b[43m \u001b[49m\u001b[38;5;124;43m'\u001b[39;49m\u001b[38;5;124;43mrb\u001b[39;49m\u001b[38;5;124;43m'\u001b[39;49m\u001b[43m)\u001b[49m\n\u001b[1;32m    994\u001b[0m \u001b[38;5;28;01melif\u001b[39;00m fp \u001b[38;5;129;01mis\u001b[39;00m \u001b[38;5;28;01mNone\u001b[39;00m \u001b[38;5;129;01mor\u001b[39;00m \u001b[38;5;129;01mnot\u001b[39;00m \u001b[38;5;28mhasattr\u001b[39m(fp, \u001b[38;5;124m\"\u001b[39m\u001b[38;5;124mread\u001b[39m\u001b[38;5;124m\"\u001b[39m) \u001b[38;5;129;01mor\u001b[39;00m \u001b[38;5;129;01mnot\u001b[39;00m \u001b[38;5;28mhasattr\u001b[39m(fp, \u001b[38;5;124m\"\u001b[39m\u001b[38;5;124mseek\u001b[39m\u001b[38;5;124m\"\u001b[39m):\n\u001b[1;32m    995\u001b[0m     \u001b[38;5;28;01mraise\u001b[39;00m \u001b[38;5;167;01mTypeError\u001b[39;00m(\u001b[38;5;124m\"\u001b[39m\u001b[38;5;124mdcmread: Expected a file path or a file-like, \u001b[39m\u001b[38;5;124m\"\u001b[39m\n\u001b[1;32m    996\u001b[0m                     \u001b[38;5;124m\"\u001b[39m\u001b[38;5;124mbut got \u001b[39m\u001b[38;5;124m\"\u001b[39m \u001b[38;5;241m+\u001b[39m \u001b[38;5;28mtype\u001b[39m(fp)\u001b[38;5;241m.\u001b[39m\u001b[38;5;18m__name__\u001b[39m)\n",
      "\u001b[0;31mFileNotFoundError\u001b[0m: [Errno 2] No such file or directory: '/tudelft.net/staff-umbrella/simelectrons/OneGeometryOneEnergy/DoseAll/8b502228-c440-4030-9f25-5d3be92bc943.dcm'"
     ]
    }
   ],
   "source": [
    "ikey='DoseAll'\n",
    "okey='GeometryAll'\n",
    "for filename in tqdm(lijst):\n",
    "    geometry=pydicom.dcmread(os.path.join(path,ikey,filename+'.dcm')).pixel_array\n",
    "\n",
    "\n",
    "    metadata_dose=pydicom.dcmread(os.path.join(path,okey,data_df[data_df['cropped_geometry_name']==lijst[0]].iloc[0]['cropped_dose_name']+'.dcm'))\n",
    "    dose=metadata_dose.pixel_array*metadata_dose.DoseGridScaling"
   ]
  },
  {
   "cell_type": "code",
   "execution_count": 3,
   "metadata": {},
   "outputs": [
    {
     "name": "stdout",
     "output_type": "stream",
     "text": [
      "2.11.0\n"
     ]
    }
   ],
   "source": []
  },
  {
   "cell_type": "code",
   "execution_count": 4,
   "metadata": {},
   "outputs": [],
   "source": [
    "\n",
    "data_df=pd.read_pickle(os.path.join(path,'main_picklefile.pkl'))\n",
    "\n"
   ]
  },
  {
   "cell_type": "code",
   "execution_count": 17,
   "metadata": {},
   "outputs": [],
   "source": [
    "def get_scaling_factors(path,ikey,okey,df):\n",
    "\n",
    "    e_min=df['energy'].min()\n",
    "    e_max=df['energy'].max()\n",
    "    \n",
    "    min_value, max_value = -np.float32('inf'), np.float32('inf')\n",
    "    error_list=[]\n",
    "    geometry_list=df['cropped_geometry_name'].tolist()\n",
    "    for i in tqdm(range(len(geometry_list))):\n",
    "\n",
    "        try:\n",
    "\n",
    "            geometry=pydicom.dcmread(os.path.join(path,ikey,df['cropped_geometry_name'].iloc[i]+'.dcm')).pixel_array\n",
    "            metadata_dose=pydicom.dcmread(os.path.join(path,okey,df['cropped_dose_name'].iloc[i]+'.dcm'))\n",
    "            dose=metadata_dose.pixel_array*metadata_dose.DoseGridScaling\n",
    "            \n",
    "\n",
    "            x_max, x_min = min(max_value, np.max(geometry)),max(min_value, np.min(geometry))\n",
    "            y_max, y_min = min(max_value, np.max(dose)),max(min_value, np.min(dose))\n",
    "        except Exception as e:\n",
    "            print(e)\n",
    "            print(df['cropped_geometry_name'].iloc[i])\n",
    "            error_list.append(df['cropped_geometry_name'].iloc[i])\n",
    "            continue\n",
    "\n",
    "    \n",
    "    scaling_dic={'x_min': float(x_min),'x_max':float(x_max),\n",
    "                'y_min':float(y_min),'y_max':float(y_max),\n",
    "                'e_min':float(e_min),'e_max':float(e_max)}\n",
    "    \n",
    "    return error_list,scaling_dic\n",
    "        \n"
   ]
  },
  {
   "cell_type": "code",
   "execution_count": 35,
   "metadata": {},
   "outputs": [],
   "source": [
    "df_correct=data_df[~data_df['cropped_geometry_name'].isin(error_list)]"
   ]
  },
  {
   "cell_type": "code",
   "execution_count": 37,
   "metadata": {},
   "outputs": [],
   "source": [
    "df_correct\n",
    "df_correct.to_pickle(os.path.join(path,'main_picklefile_correct.pkl'))"
   ]
  },
  {
   "cell_type": "code",
   "execution_count": 23,
   "metadata": {},
   "outputs": [
    {
     "name": "stderr",
     "output_type": "stream",
     "text": [
      " 16%|█▌        | 2306/14726 [08:13<40:01,  5.17it/s]  "
     ]
    },
    {
     "name": "stdout",
     "output_type": "stream",
     "text": [
      "object of type 'NoneType' has no len()\n",
      "9e7f7192-6fe5-4e8a-a532-a47c2b665780\n"
     ]
    },
    {
     "name": "stderr",
     "output_type": "stream",
     "text": [
      " 18%|█▊        | 2703/14726 [09:06<15:38, 12.81it/s]"
     ]
    },
    {
     "name": "stdout",
     "output_type": "stream",
     "text": [
      "object of type 'NoneType' has no len()\n",
      "0bbbcfd2-9bcf-4b32-8205-06d67b4ec1fa\n"
     ]
    },
    {
     "name": "stderr",
     "output_type": "stream",
     "text": [
      " 22%|██▏       | 3207/14726 [09:53<13:06, 14.64it/s]"
     ]
    },
    {
     "name": "stdout",
     "output_type": "stream",
     "text": [
      "object of type 'NoneType' has no len()\n",
      "9c0f0be1-9306-48cb-9ceb-3f6e746794bd\n"
     ]
    },
    {
     "name": "stderr",
     "output_type": "stream",
     "text": [
      " 22%|██▏       | 3308/14726 [10:06<27:53,  6.82it/s]"
     ]
    },
    {
     "name": "stdout",
     "output_type": "stream",
     "text": [
      "object of type 'NoneType' has no len()\n",
      "e46d7b72-3820-4f65-9ab9-dc6be5d183d7\n"
     ]
    },
    {
     "name": "stderr",
     "output_type": "stream",
     "text": [
      " 23%|██▎       | 3427/14726 [10:19<02:56, 64.18it/s]"
     ]
    },
    {
     "name": "stdout",
     "output_type": "stream",
     "text": [
      "object of type 'NoneType' has no len()\n",
      "b0b1343a-1968-429f-b515-2ffe2bf43ba2\n"
     ]
    },
    {
     "name": "stderr",
     "output_type": "stream",
     "text": [
      " 26%|██▌       | 3833/14726 [10:23<01:28, 122.52it/s]"
     ]
    },
    {
     "name": "stdout",
     "output_type": "stream",
     "text": [
      "object of type 'NoneType' has no len()\n",
      "e907c92f-1f3c-46e7-8a08-c01a94d7d647\n",
      "object of type 'NoneType' has no len()\n",
      "1ef81f68-ab30-43ef-a36a-3fe7f63802f7\n"
     ]
    },
    {
     "name": "stderr",
     "output_type": "stream",
     "text": [
      " 31%|███       | 4542/14726 [10:29<01:28, 115.32it/s]"
     ]
    },
    {
     "name": "stdout",
     "output_type": "stream",
     "text": [
      "object of type 'NoneType' has no len()\n",
      "ca6772df-b522-4ed2-941a-09f9f53b4372\n",
      "object of type 'NoneType' has no len()\n",
      "4e974765-7875-4348-8cd2-46e2790c5777\n"
     ]
    },
    {
     "name": "stderr",
     "output_type": "stream",
     "text": [
      " 36%|███▋      | 5361/14726 [10:55<39:07,  3.99it/s] "
     ]
    },
    {
     "name": "stdout",
     "output_type": "stream",
     "text": [
      "object of type 'NoneType' has no len()\n",
      "392ee8d2-29c6-42d7-8a56-a3376fd8f434\n"
     ]
    },
    {
     "name": "stderr",
     "output_type": "stream",
     "text": [
      " 37%|███▋      | 5386/14726 [11:00<41:07,  3.79it/s]"
     ]
    },
    {
     "name": "stdout",
     "output_type": "stream",
     "text": [
      "object of type 'NoneType' has no len()\n",
      "c9f68908-ab81-4df3-9532-5a14518495c6\n"
     ]
    },
    {
     "name": "stderr",
     "output_type": "stream",
     "text": [
      " 66%|██████▋   | 9770/14726 [29:46<14:25,  5.73it/s]  "
     ]
    },
    {
     "name": "stdout",
     "output_type": "stream",
     "text": [
      "object of type 'NoneType' has no len()\n",
      "25331cd2-9399-4d8d-a4c4-6fffa915364a\n"
     ]
    },
    {
     "name": "stderr",
     "output_type": "stream",
     "text": [
      "100%|██████████| 14726/14726 [49:03<00:00,  5.00it/s]\n"
     ]
    }
   ],
   "source": [
    "error_list,scaling_dic=get_scaling_factors(path,'GeometryAll','DoseAll', data_df)"
   ]
  },
  {
   "cell_type": "code",
   "execution_count": 4,
   "metadata": {},
   "outputs": [
    {
     "name": "stdout",
     "output_type": "stream",
     "text": [
      "(None, 150, 68, 68, 1)\n"
     ]
    },
    {
     "name": "stderr",
     "output_type": "stream",
     "text": [
      "2024-01-17 18:25:23.139072: I tensorflow/core/platform/cpu_feature_guard.cc:193] This TensorFlow binary is optimized with oneAPI Deep Neural Network Library (oneDNN) to use the following CPU instructions in performance-critical operations:  AVX2 AVX512F AVX512_VNNI FMA\n",
      "To enable them in other operations, rebuild TensorFlow with the appropriate compiler flags.\n",
      "2024-01-17 18:25:24.745146: I tensorflow/core/common_runtime/gpu/gpu_device.cc:1613] Created device /job:localhost/replica:0/task:0/device:GPU:0 with 43454 MB memory:  -> device: 2, name: NVIDIA A40, pci bus id: 0000:d8:00.0, compute capability: 8.6\n"
     ]
    },
    {
     "name": "stdout",
     "output_type": "stream",
     "text": [
      "(None, 150, 34, 34, 64)\n",
      "(None, 150, 17, 17, 64)\n",
      "(None, 1, 3468) (None, 150, 3468)\n",
      "Model: \"model\"\n",
      "__________________________________________________________________________________________________\n",
      " Layer (type)                   Output Shape         Param #     Connected to                     \n",
      "==================================================================================================\n",
      " input_1 (InputLayer)           [(None, 150, 68, 68  0           []                               \n",
      "                                , 1)]                                                             \n",
      "                                                                                                  \n",
      " input_2 (InputLayer)           [(None, 1)]          0           []                               \n",
      "                                                                                                  \n",
      " conv_encoder (ConvEncoder)     (None, 151, 3468)    654084      ['input_1[0][0]',                \n",
      "                                                                  'input_2[0][0]']                \n",
      "                                                                                                  \n",
      " transformer_encoder (Transform  (None, 151, 3468)   793804392   ['conv_encoder[0][0]']           \n",
      " erEncoder)                                                                                       \n",
      "                                                                                                  \n",
      " conv_decoder (ConvDecoder)     (None, 150, 68, 68,  123457      ['transformer_encoder[0][0]']    \n",
      "                                 1)                                                               \n",
      "                                                                                                  \n",
      "==================================================================================================\n",
      "Total params: 794,581,933\n",
      "Trainable params: 794,581,933\n",
      "Non-trainable params: 0\n",
      "__________________________________________________________________________________________________\n"
     ]
    }
   ],
   "source": [
    "'''Initializing Batch size num epochs learning rate and weight decay. This is the same in my model'''\n",
    "batch_size = 2\n",
    "num_epochs = 30\n",
    "learning_rate = 0.001\n",
    "weight_decay = 0.0001\n",
    "\n",
    "'''Initializing the number of tokens, projection dimension, number of heads, number of transformers and kernel size. This is the same in my model'''\n",
    "# Load model and data hyperparameters\n",
    "with open('./hyperparam.json', 'r') as hfile:\n",
    "    param = json.load(hfile)\n",
    "\n",
    "preprocess=False\n",
    "# Load data files\n",
    "path = r\"/tudelft.net/staff-umbrella/simelectrons/OneGeometryOneEnergy\"\n",
    "data_df=pd.read_pickle(os.path.join(path,'main_picklefile_correct.pkl'))\n",
    "path_ckpt = './weights/ckpt/weights.ckpt'\n",
    "filename = path + 'train.h5'\n",
    "train_split = 0.7\n",
    "val_split = 0.15\n",
    "test_split = 0.15\n",
    "\n",
    "listIDs=data_df['cropped_geometry_name'].tolist()\n",
    "\n",
    "# Training, validation, test split.\n",
    "random.seed(333)\n",
    "random.shuffle(listIDs)\n",
    "\n",
    "trainIDs = listIDs[:int(round(train_split*len(listIDs)))]\n",
    "valIDs = listIDs[int(round(train_split*len(listIDs))):]\n",
    "testIDs = listIDs[int(round((train_split + val_split)*len(listIDs))):]\n",
    "\n",
    "test_df=data_df[data_df['cropped_geometry_name'].isin(testIDs)]\n",
    "test_df.to_pickle(os.path.join(path,'test_picklefile.pkl'))\n",
    "\n",
    "\n",
    "\n",
    "# Calculate or load normalization constants.\n",
    "\n",
    "if preprocess==True:\n",
    "    scale = get_scaling_factors(path,'GeometryAll','DoseAll', data_df)\n",
    "    scale_json = json.dumps(scale)\n",
    "    with open('scale.json', 'w') as file:\n",
    "        file.write(scale_json)\n",
    "\n",
    "with open('scale.json', 'r') as file:\n",
    "    scale_json = file.read()\n",
    "scale = json.loads(scale_json)\n",
    "\n",
    "\n",
    "train_gen = DataGenerator(trainIDs, path, batch_size, data_df, scale)\n",
    "val_gen = DataGenerator(valIDs,  path, batch_size, data_df, scale)\n",
    "\n",
    "\n",
    "transformer = dota_energies(\n",
    "    num_tokens=param['num_tokens'],\n",
    "    input_shape=param['data_shape'],\n",
    "    projection_dim=param['projection_dim'],\n",
    "    num_heads=param['num_heads'],\n",
    "    num_transformers=param['num_transformers'], \n",
    "    kernel_size=param['kernel_size'],\n",
    "    causal=True\n",
    ")\n",
    "transformer.summary()\n",
    "\n",
    "optimizer = LAMB(learning_rate=learning_rate, weight_decay_rate=weight_decay)\n",
    "#transformer.compile(optimizer=optimizer, loss='mse', metrics=[])"
   ]
  },
  {
   "cell_type": "code",
   "execution_count": 9,
   "metadata": {},
   "outputs": [
    {
     "data": {
      "text/plain": [
       "<tf.Variable 'UnreadVariable' shape=() dtype=float32, numpy=0.001>"
      ]
     },
     "execution_count": 9,
     "metadata": {},
     "output_type": "execute_result"
    }
   ],
   "source": [
    "checkpoint = ModelCheckpoint(\n",
    "    filepath=path_ckpt,\n",
    "    save_weights_only=True,\n",
    "    save_best_only=True,\n",
    "    monitor='val_loss',\n",
    "    mode='min')\n",
    "\n",
    "sel_epochs = [4,8,12,16,20,24,28]\n",
    "lr_scheduler = LearningRateScheduler(\n",
    "    lambda epoch, lr: lr*0.5 if epoch in sel_epochs else lr,\n",
    "    verbose=1)\n",
    "\n",
    "optimizer.learning_rate.assign(learning_rate)\n",
    "\n",
    "\n",
    "\n"
   ]
  },
  {
   "cell_type": "code",
   "execution_count": 10,
   "metadata": {},
   "outputs": [
    {
     "name": "stdout",
     "output_type": "stream",
     "text": [
      "['96fc82f6-7eca-43b2-a70a-2ab81bce5a8c', '7fcefb5d-3f20-47f7-9ef8-71e2fe525bec']\n"
     ]
    },
    {
     "name": "stderr",
     "output_type": "stream",
     "text": [
      "2it [01:21, 40.94s/it]\n"
     ]
    },
    {
     "name": "stdout",
     "output_type": "stream",
     "text": [
      "\n",
      "Epoch 1: LearningRateScheduler setting learning rate to 0.0010000000474974513.\n",
      "Epoch 1/30\n",
      "['fafe262b-9923-4c2f-b061-8aa1a8cf467f', '5975dbef-313c-4c75-a73f-479f80683189']\n"
     ]
    },
    {
     "name": "stderr",
     "output_type": "stream",
     "text": [
      "0it [00:00, ?it/s]2024-01-13 16:19:09.571194: I external/local_tsl/tsl/platform/default/subprocess.cc:304] Start cannot spawn child process: No such file or directory\n",
      "2it [01:21, 40.75s/it]\n"
     ]
    },
    {
     "name": "stdout",
     "output_type": "stream",
     "text": [
      "['38f7c127-c7b5-413d-ab22-affae4ce18f1', '1fe4fc5b-447d-4bbb-89a5-8ff72609ce49']\n"
     ]
    },
    {
     "name": "stderr",
     "output_type": "stream",
     "text": [
      "0it [00:00, ?it/s]2024-01-13 16:20:33.485807: I external/local_xla/xla/stream_executor/cuda/cuda_dnn.cc:454] Loaded cuDNN version 8904\n",
      "2024-01-13 16:20:36.673254: I external/local_tsl/tsl/platform/default/subprocess.cc:304] Start cannot spawn child process: No such file or directory\n",
      "2024-01-13 16:20:39.413260: W external/local_tsl/tsl/framework/bfc_allocator.cc:296] Allocator (GPU_0_bfc) ran out of memory trying to allocate 1.60GiB with freed_by_count=0. The caller indicates that this is not a failure, but this may mean that there could be performance gains if more memory were available.\n",
      "2024-01-13 16:20:39.750539: W external/local_tsl/tsl/framework/bfc_allocator.cc:296] Allocator (GPU_0_bfc) ran out of memory trying to allocate 2.08GiB with freed_by_count=0. The caller indicates that this is not a failure, but this may mean that there could be performance gains if more memory were available.\n",
      "2024-01-13 16:20:39.922086: W external/local_tsl/tsl/framework/bfc_allocator.cc:296] Allocator (GPU_0_bfc) ran out of memory trying to allocate 2.08GiB with freed_by_count=0. The caller indicates that this is not a failure, but this may mean that there could be performance gains if more memory were available.\n",
      "2024-01-13 16:20:40.861335: W external/local_tsl/tsl/framework/bfc_allocator.cc:296] Allocator (GPU_0_bfc) ran out of memory trying to allocate 1.60GiB with freed_by_count=0. The caller indicates that this is not a failure, but this may mean that there could be performance gains if more memory were available.\n",
      "2024-01-13 16:20:41.197213: W external/local_tsl/tsl/framework/bfc_allocator.cc:296] Allocator (GPU_0_bfc) ran out of memory trying to allocate 2.08GiB with freed_by_count=0. The caller indicates that this is not a failure, but this may mean that there could be performance gains if more memory were available.\n",
      "2024-01-13 16:20:41.367904: W external/local_tsl/tsl/framework/bfc_allocator.cc:296] Allocator (GPU_0_bfc) ran out of memory trying to allocate 2.08GiB with freed_by_count=0. The caller indicates that this is not a failure, but this may mean that there could be performance gains if more memory were available.\n"
     ]
    },
    {
     "ename": "InvalidArgumentError",
     "evalue": "Graph execution error:\n\nDetected at node model/conv_encoder_2/concatenate_2/concat defined at (most recent call last):\n  File \"/home/hamdi/miniconda3/envs/simelectrons/lib/python3.9/runpy.py\", line 197, in _run_module_as_main\n\n  File \"/home/hamdi/miniconda3/envs/simelectrons/lib/python3.9/runpy.py\", line 87, in _run_code\n\n  File \"/home/hamdi/miniconda3/envs/simelectrons/lib/python3.9/site-packages/ipykernel_launcher.py\", line 17, in <module>\n\n  File \"/home/hamdi/miniconda3/envs/simelectrons/lib/python3.9/site-packages/traitlets/config/application.py\", line 1053, in launch_instance\n\n  File \"/home/hamdi/miniconda3/envs/simelectrons/lib/python3.9/site-packages/ipykernel/kernelapp.py\", line 737, in start\n\n  File \"/home/hamdi/miniconda3/envs/simelectrons/lib/python3.9/site-packages/tornado/platform/asyncio.py\", line 195, in start\n\n  File \"/home/hamdi/miniconda3/envs/simelectrons/lib/python3.9/asyncio/base_events.py\", line 596, in run_forever\n\n  File \"/home/hamdi/miniconda3/envs/simelectrons/lib/python3.9/asyncio/base_events.py\", line 1890, in _run_once\n\n  File \"/home/hamdi/miniconda3/envs/simelectrons/lib/python3.9/asyncio/events.py\", line 80, in _run\n\n  File \"/home/hamdi/miniconda3/envs/simelectrons/lib/python3.9/site-packages/ipykernel/kernelbase.py\", line 524, in dispatch_queue\n\n  File \"/home/hamdi/miniconda3/envs/simelectrons/lib/python3.9/site-packages/ipykernel/kernelbase.py\", line 513, in process_one\n\n  File \"/home/hamdi/miniconda3/envs/simelectrons/lib/python3.9/site-packages/ipykernel/kernelbase.py\", line 418, in dispatch_shell\n\n  File \"/home/hamdi/miniconda3/envs/simelectrons/lib/python3.9/site-packages/ipykernel/kernelbase.py\", line 758, in execute_request\n\n  File \"/home/hamdi/miniconda3/envs/simelectrons/lib/python3.9/site-packages/ipykernel/ipkernel.py\", line 426, in do_execute\n\n  File \"/home/hamdi/miniconda3/envs/simelectrons/lib/python3.9/site-packages/ipykernel/zmqshell.py\", line 549, in run_cell\n\n  File \"/home/hamdi/miniconda3/envs/simelectrons/lib/python3.9/site-packages/IPython/core/interactiveshell.py\", line 3048, in run_cell\n\n  File \"/home/hamdi/miniconda3/envs/simelectrons/lib/python3.9/site-packages/IPython/core/interactiveshell.py\", line 3103, in _run_cell\n\n  File \"/home/hamdi/miniconda3/envs/simelectrons/lib/python3.9/site-packages/IPython/core/async_helpers.py\", line 129, in _pseudo_sync_runner\n\n  File \"/home/hamdi/miniconda3/envs/simelectrons/lib/python3.9/site-packages/IPython/core/interactiveshell.py\", line 3308, in run_cell_async\n\n  File \"/home/hamdi/miniconda3/envs/simelectrons/lib/python3.9/site-packages/IPython/core/interactiveshell.py\", line 3490, in run_ast_nodes\n\n  File \"/home/hamdi/miniconda3/envs/simelectrons/lib/python3.9/site-packages/IPython/core/interactiveshell.py\", line 3550, in run_code\n\n  File \"/tmp/ipykernel_16052/2195393432.py\", line 1, in <module>\n\n  File \"/home/hamdi/miniconda3/envs/simelectrons/lib/python3.9/site-packages/keras/src/utils/traceback_utils.py\", line 65, in error_handler\n\n  File \"/home/hamdi/miniconda3/envs/simelectrons/lib/python3.9/site-packages/keras/src/engine/training.py\", line 1807, in fit\n\n  File \"/home/hamdi/miniconda3/envs/simelectrons/lib/python3.9/site-packages/keras/src/engine/training.py\", line 1401, in train_function\n\n  File \"/home/hamdi/miniconda3/envs/simelectrons/lib/python3.9/site-packages/keras/src/engine/training.py\", line 1384, in step_function\n\n  File \"/home/hamdi/miniconda3/envs/simelectrons/lib/python3.9/site-packages/keras/src/engine/training.py\", line 1373, in run_step\n\n  File \"/home/hamdi/miniconda3/envs/simelectrons/lib/python3.9/site-packages/keras/src/engine/training.py\", line 1150, in train_step\n\n  File \"/home/hamdi/miniconda3/envs/simelectrons/lib/python3.9/site-packages/keras/src/utils/traceback_utils.py\", line 65, in error_handler\n\n  File \"/home/hamdi/miniconda3/envs/simelectrons/lib/python3.9/site-packages/keras/src/engine/training.py\", line 590, in __call__\n\n  File \"/home/hamdi/miniconda3/envs/simelectrons/lib/python3.9/site-packages/keras/src/utils/traceback_utils.py\", line 65, in error_handler\n\n  File \"/home/hamdi/miniconda3/envs/simelectrons/lib/python3.9/site-packages/keras/src/engine/base_layer.py\", line 1149, in __call__\n\n  File \"/home/hamdi/miniconda3/envs/simelectrons/lib/python3.9/site-packages/keras/src/utils/traceback_utils.py\", line 96, in error_handler\n\n  File \"/home/hamdi/miniconda3/envs/simelectrons/lib/python3.9/site-packages/keras/src/engine/functional.py\", line 515, in call\n\n  File \"/home/hamdi/miniconda3/envs/simelectrons/lib/python3.9/site-packages/keras/src/engine/functional.py\", line 672, in _run_internal_graph\n\n  File \"/home/hamdi/miniconda3/envs/simelectrons/lib/python3.9/site-packages/keras/src/utils/traceback_utils.py\", line 65, in error_handler\n\n  File \"/home/hamdi/miniconda3/envs/simelectrons/lib/python3.9/site-packages/keras/src/engine/base_layer.py\", line 1149, in __call__\n\n  File \"/home/hamdi/miniconda3/envs/simelectrons/lib/python3.9/site-packages/keras/src/utils/traceback_utils.py\", line 96, in error_handler\n\n  File \"/home/hamdi/datagenerator/dota/./src/blocks.py\", line 92, in call\n\n  File \"/home/hamdi/miniconda3/envs/simelectrons/lib/python3.9/site-packages/keras/src/utils/traceback_utils.py\", line 65, in error_handler\n\n  File \"/home/hamdi/miniconda3/envs/simelectrons/lib/python3.9/site-packages/keras/src/engine/base_layer.py\", line 1149, in __call__\n\n  File \"/home/hamdi/miniconda3/envs/simelectrons/lib/python3.9/site-packages/keras/src/utils/traceback_utils.py\", line 96, in error_handler\n\n  File \"/home/hamdi/miniconda3/envs/simelectrons/lib/python3.9/site-packages/keras/src/layers/merging/base_merge.py\", line 196, in call\n\n  File \"/home/hamdi/miniconda3/envs/simelectrons/lib/python3.9/site-packages/keras/src/layers/merging/concatenate.py\", line 134, in _merge_function\n\n  File \"/home/hamdi/miniconda3/envs/simelectrons/lib/python3.9/site-packages/keras/src/backend.py\", line 3580, in concatenate\n\nConcatOp : Dimension 2 in both shapes must be equal: shape[0] = [2,1,432] vs. shape[1] = [2,68,7548]\n\t [[{{node model/conv_encoder_2/concatenate_2/concat}}]] [Op:__inference_train_function_9592]",
     "output_type": "error",
     "traceback": [
      "\u001b[0;31m---------------------------------------------------------------------------\u001b[0m",
      "\u001b[0;31mInvalidArgumentError\u001b[0m                      Traceback (most recent call last)",
      "Cell \u001b[0;32mIn[10], line 1\u001b[0m\n\u001b[0;32m----> 1\u001b[0m history \u001b[38;5;241m=\u001b[39m \u001b[43mtransformer\u001b[49m\u001b[38;5;241;43m.\u001b[39;49m\u001b[43mfit\u001b[49m\u001b[43m(\u001b[49m\n\u001b[1;32m      2\u001b[0m \u001b[43m    \u001b[49m\u001b[43mx\u001b[49m\u001b[38;5;241;43m=\u001b[39;49m\u001b[43mtrain_gen\u001b[49m\u001b[43m,\u001b[49m\n\u001b[1;32m      3\u001b[0m \u001b[43m    \u001b[49m\u001b[43mvalidation_data\u001b[49m\u001b[38;5;241;43m=\u001b[39;49m\u001b[43mval_gen\u001b[49m\u001b[43m,\u001b[49m\n\u001b[1;32m      4\u001b[0m \u001b[43m    \u001b[49m\u001b[43mepochs\u001b[49m\u001b[38;5;241;43m=\u001b[39;49m\u001b[43mnum_epochs\u001b[49m\u001b[43m,\u001b[49m\n\u001b[1;32m      5\u001b[0m \u001b[43m    \u001b[49m\u001b[43mverbose\u001b[49m\u001b[38;5;241;43m=\u001b[39;49m\u001b[38;5;241;43m1\u001b[39;49m\u001b[43m,\u001b[49m\n\u001b[1;32m      6\u001b[0m \u001b[43m    \u001b[49m\u001b[43mcallbacks\u001b[49m\u001b[38;5;241;43m=\u001b[39;49m\u001b[43m[\u001b[49m\u001b[43mcheckpoint\u001b[49m\u001b[43m,\u001b[49m\u001b[43m \u001b[49m\u001b[43mlr_scheduler\u001b[49m\u001b[43m]\u001b[49m\n\u001b[1;32m      7\u001b[0m \u001b[43m    \u001b[49m\u001b[43m)\u001b[49m\n",
      "File \u001b[0;32m~/miniconda3/envs/simelectrons/lib/python3.9/site-packages/keras/src/utils/traceback_utils.py:70\u001b[0m, in \u001b[0;36mfilter_traceback.<locals>.error_handler\u001b[0;34m(*args, **kwargs)\u001b[0m\n\u001b[1;32m     67\u001b[0m     filtered_tb \u001b[38;5;241m=\u001b[39m _process_traceback_frames(e\u001b[38;5;241m.\u001b[39m__traceback__)\n\u001b[1;32m     68\u001b[0m     \u001b[38;5;66;03m# To get the full stack trace, call:\u001b[39;00m\n\u001b[1;32m     69\u001b[0m     \u001b[38;5;66;03m# `tf.debugging.disable_traceback_filtering()`\u001b[39;00m\n\u001b[0;32m---> 70\u001b[0m     \u001b[38;5;28;01mraise\u001b[39;00m e\u001b[38;5;241m.\u001b[39mwith_traceback(filtered_tb) \u001b[38;5;28;01mfrom\u001b[39;00m \u001b[38;5;28;01mNone\u001b[39;00m\n\u001b[1;32m     71\u001b[0m \u001b[38;5;28;01mfinally\u001b[39;00m:\n\u001b[1;32m     72\u001b[0m     \u001b[38;5;28;01mdel\u001b[39;00m filtered_tb\n",
      "File \u001b[0;32m~/miniconda3/envs/simelectrons/lib/python3.9/site-packages/tensorflow/python/eager/execute.py:53\u001b[0m, in \u001b[0;36mquick_execute\u001b[0;34m(op_name, num_outputs, inputs, attrs, ctx, name)\u001b[0m\n\u001b[1;32m     51\u001b[0m \u001b[38;5;28;01mtry\u001b[39;00m:\n\u001b[1;32m     52\u001b[0m   ctx\u001b[38;5;241m.\u001b[39mensure_initialized()\n\u001b[0;32m---> 53\u001b[0m   tensors \u001b[38;5;241m=\u001b[39m pywrap_tfe\u001b[38;5;241m.\u001b[39mTFE_Py_Execute(ctx\u001b[38;5;241m.\u001b[39m_handle, device_name, op_name,\n\u001b[1;32m     54\u001b[0m                                       inputs, attrs, num_outputs)\n\u001b[1;32m     55\u001b[0m \u001b[38;5;28;01mexcept\u001b[39;00m core\u001b[38;5;241m.\u001b[39m_NotOkStatusException \u001b[38;5;28;01mas\u001b[39;00m e:\n\u001b[1;32m     56\u001b[0m   \u001b[38;5;28;01mif\u001b[39;00m name \u001b[38;5;129;01mis\u001b[39;00m \u001b[38;5;129;01mnot\u001b[39;00m \u001b[38;5;28;01mNone\u001b[39;00m:\n",
      "\u001b[0;31mInvalidArgumentError\u001b[0m: Graph execution error:\n\nDetected at node model/conv_encoder_2/concatenate_2/concat defined at (most recent call last):\n  File \"/home/hamdi/miniconda3/envs/simelectrons/lib/python3.9/runpy.py\", line 197, in _run_module_as_main\n\n  File \"/home/hamdi/miniconda3/envs/simelectrons/lib/python3.9/runpy.py\", line 87, in _run_code\n\n  File \"/home/hamdi/miniconda3/envs/simelectrons/lib/python3.9/site-packages/ipykernel_launcher.py\", line 17, in <module>\n\n  File \"/home/hamdi/miniconda3/envs/simelectrons/lib/python3.9/site-packages/traitlets/config/application.py\", line 1053, in launch_instance\n\n  File \"/home/hamdi/miniconda3/envs/simelectrons/lib/python3.9/site-packages/ipykernel/kernelapp.py\", line 737, in start\n\n  File \"/home/hamdi/miniconda3/envs/simelectrons/lib/python3.9/site-packages/tornado/platform/asyncio.py\", line 195, in start\n\n  File \"/home/hamdi/miniconda3/envs/simelectrons/lib/python3.9/asyncio/base_events.py\", line 596, in run_forever\n\n  File \"/home/hamdi/miniconda3/envs/simelectrons/lib/python3.9/asyncio/base_events.py\", line 1890, in _run_once\n\n  File \"/home/hamdi/miniconda3/envs/simelectrons/lib/python3.9/asyncio/events.py\", line 80, in _run\n\n  File \"/home/hamdi/miniconda3/envs/simelectrons/lib/python3.9/site-packages/ipykernel/kernelbase.py\", line 524, in dispatch_queue\n\n  File \"/home/hamdi/miniconda3/envs/simelectrons/lib/python3.9/site-packages/ipykernel/kernelbase.py\", line 513, in process_one\n\n  File \"/home/hamdi/miniconda3/envs/simelectrons/lib/python3.9/site-packages/ipykernel/kernelbase.py\", line 418, in dispatch_shell\n\n  File \"/home/hamdi/miniconda3/envs/simelectrons/lib/python3.9/site-packages/ipykernel/kernelbase.py\", line 758, in execute_request\n\n  File \"/home/hamdi/miniconda3/envs/simelectrons/lib/python3.9/site-packages/ipykernel/ipkernel.py\", line 426, in do_execute\n\n  File \"/home/hamdi/miniconda3/envs/simelectrons/lib/python3.9/site-packages/ipykernel/zmqshell.py\", line 549, in run_cell\n\n  File \"/home/hamdi/miniconda3/envs/simelectrons/lib/python3.9/site-packages/IPython/core/interactiveshell.py\", line 3048, in run_cell\n\n  File \"/home/hamdi/miniconda3/envs/simelectrons/lib/python3.9/site-packages/IPython/core/interactiveshell.py\", line 3103, in _run_cell\n\n  File \"/home/hamdi/miniconda3/envs/simelectrons/lib/python3.9/site-packages/IPython/core/async_helpers.py\", line 129, in _pseudo_sync_runner\n\n  File \"/home/hamdi/miniconda3/envs/simelectrons/lib/python3.9/site-packages/IPython/core/interactiveshell.py\", line 3308, in run_cell_async\n\n  File \"/home/hamdi/miniconda3/envs/simelectrons/lib/python3.9/site-packages/IPython/core/interactiveshell.py\", line 3490, in run_ast_nodes\n\n  File \"/home/hamdi/miniconda3/envs/simelectrons/lib/python3.9/site-packages/IPython/core/interactiveshell.py\", line 3550, in run_code\n\n  File \"/tmp/ipykernel_16052/2195393432.py\", line 1, in <module>\n\n  File \"/home/hamdi/miniconda3/envs/simelectrons/lib/python3.9/site-packages/keras/src/utils/traceback_utils.py\", line 65, in error_handler\n\n  File \"/home/hamdi/miniconda3/envs/simelectrons/lib/python3.9/site-packages/keras/src/engine/training.py\", line 1807, in fit\n\n  File \"/home/hamdi/miniconda3/envs/simelectrons/lib/python3.9/site-packages/keras/src/engine/training.py\", line 1401, in train_function\n\n  File \"/home/hamdi/miniconda3/envs/simelectrons/lib/python3.9/site-packages/keras/src/engine/training.py\", line 1384, in step_function\n\n  File \"/home/hamdi/miniconda3/envs/simelectrons/lib/python3.9/site-packages/keras/src/engine/training.py\", line 1373, in run_step\n\n  File \"/home/hamdi/miniconda3/envs/simelectrons/lib/python3.9/site-packages/keras/src/engine/training.py\", line 1150, in train_step\n\n  File \"/home/hamdi/miniconda3/envs/simelectrons/lib/python3.9/site-packages/keras/src/utils/traceback_utils.py\", line 65, in error_handler\n\n  File \"/home/hamdi/miniconda3/envs/simelectrons/lib/python3.9/site-packages/keras/src/engine/training.py\", line 590, in __call__\n\n  File \"/home/hamdi/miniconda3/envs/simelectrons/lib/python3.9/site-packages/keras/src/utils/traceback_utils.py\", line 65, in error_handler\n\n  File \"/home/hamdi/miniconda3/envs/simelectrons/lib/python3.9/site-packages/keras/src/engine/base_layer.py\", line 1149, in __call__\n\n  File \"/home/hamdi/miniconda3/envs/simelectrons/lib/python3.9/site-packages/keras/src/utils/traceback_utils.py\", line 96, in error_handler\n\n  File \"/home/hamdi/miniconda3/envs/simelectrons/lib/python3.9/site-packages/keras/src/engine/functional.py\", line 515, in call\n\n  File \"/home/hamdi/miniconda3/envs/simelectrons/lib/python3.9/site-packages/keras/src/engine/functional.py\", line 672, in _run_internal_graph\n\n  File \"/home/hamdi/miniconda3/envs/simelectrons/lib/python3.9/site-packages/keras/src/utils/traceback_utils.py\", line 65, in error_handler\n\n  File \"/home/hamdi/miniconda3/envs/simelectrons/lib/python3.9/site-packages/keras/src/engine/base_layer.py\", line 1149, in __call__\n\n  File \"/home/hamdi/miniconda3/envs/simelectrons/lib/python3.9/site-packages/keras/src/utils/traceback_utils.py\", line 96, in error_handler\n\n  File \"/home/hamdi/datagenerator/dota/./src/blocks.py\", line 92, in call\n\n  File \"/home/hamdi/miniconda3/envs/simelectrons/lib/python3.9/site-packages/keras/src/utils/traceback_utils.py\", line 65, in error_handler\n\n  File \"/home/hamdi/miniconda3/envs/simelectrons/lib/python3.9/site-packages/keras/src/engine/base_layer.py\", line 1149, in __call__\n\n  File \"/home/hamdi/miniconda3/envs/simelectrons/lib/python3.9/site-packages/keras/src/utils/traceback_utils.py\", line 96, in error_handler\n\n  File \"/home/hamdi/miniconda3/envs/simelectrons/lib/python3.9/site-packages/keras/src/layers/merging/base_merge.py\", line 196, in call\n\n  File \"/home/hamdi/miniconda3/envs/simelectrons/lib/python3.9/site-packages/keras/src/layers/merging/concatenate.py\", line 134, in _merge_function\n\n  File \"/home/hamdi/miniconda3/envs/simelectrons/lib/python3.9/site-packages/keras/src/backend.py\", line 3580, in concatenate\n\nConcatOp : Dimension 2 in both shapes must be equal: shape[0] = [2,1,432] vs. shape[1] = [2,68,7548]\n\t [[{{node model/conv_encoder_2/concatenate_2/concat}}]] [Op:__inference_train_function_9592]"
     ]
    },
    {
     "name": "stderr",
     "output_type": "stream",
     "text": [
      "2it [01:19, 39.61s/it]\n"
     ]
    },
    {
     "name": "stdout",
     "output_type": "stream",
     "text": [
      "['8720fe5b-99aa-4556-be77-08e3b6c52aa1', '6ffd653a-0c20-45fe-a7ff-051f3773b066']\n"
     ]
    },
    {
     "name": "stderr",
     "output_type": "stream",
     "text": [
      "2it [01:20, 40.35s/it]\n"
     ]
    }
   ],
   "source": [
    "history = transformer.fit(\n",
    "    x=train_gen,\n",
    "    validation_data=val_gen,\n",
    "    epochs=num_epochs,\n",
    "    verbose=1,\n",
    "    callbacks=[checkpoint, lr_scheduler]\n",
    "    )\n"
   ]
  },
  {
   "cell_type": "code",
   "execution_count": 6,
   "metadata": {},
   "outputs": [
    {
     "name": "stdout",
     "output_type": "stream",
     "text": [
      "['25f3c634-cad5-4860-abb2-7456d3921d0c', '8d66d7fe-3a7a-4b5e-b6c6-fcfb2c055281']\n"
     ]
    },
    {
     "name": "stderr",
     "output_type": "stream",
     "text": [
      "2it [01:30, 45.26s/it]\n"
     ]
    }
   ],
   "source": [
    "X,y=train_gen.__getitem__(0)"
   ]
  },
  {
   "cell_type": "code",
   "execution_count": 13,
   "metadata": {},
   "outputs": [
    {
     "data": {
      "text/plain": [
       "<matplotlib.image.AxesImage at 0x7fdc20a19c70>"
      ]
     },
     "execution_count": 13,
     "metadata": {},
     "output_type": "execute_result"
    },
    {
     "data": {
      "image/png": "[encoded data removed]",
      "text/plain": [
       "<Figure size 640x480 with 1 Axes>"
      ]
     },
     "metadata": {},
     "output_type": "display_data"
    }
   ],
   "source": [
    "plt.imshow(X[0][0][34,:,:],cmap='gray')\n",
    "plt.imshow(y[0][34,:,:],cmap='turbo',alpha=0.7)"
   ]
  },
  {
   "cell_type": "code",
   "execution_count": null,
   "metadata": {},
   "outputs": [],
   "source": [
    "plt.imshow(y[0][])"
   ]
  }
 ],
 "metadata": {
  "kernelspec": {
   "display_name": "simelectrons",
   "language": "python",
   "name": "python3"
  },
  "language_info": {
   "codemirror_mode": {
    "name": "ipython",
    "version": 3
   },
   "file_extension": ".py",
   "mimetype": "text/x-python",
   "name": "python",
   "nbconvert_exporter": "python",
   "pygments_lexer": "ipython3",
   "version": "3.9.10"
  }
 },
 "nbformat": 4,
 "nbformat_minor": 2
}
